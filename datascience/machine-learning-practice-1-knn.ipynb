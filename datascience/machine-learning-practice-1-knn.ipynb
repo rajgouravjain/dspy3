{
 "cells": [
  {
   "cell_type": "code",
   "execution_count": 1,
   "metadata": {
    "collapsed": true
   },
   "outputs": [],
   "source": [
    "import quandl\n",
    "from sklearn import datasets\n",
    "import matplotlib.pyplot as plt\n",
    "import pandas as pd\n",
    "import numpy as np"
   ]
  },
  {
   "cell_type": "code",
   "execution_count": 2,
   "metadata": {
    "collapsed": false
   },
   "outputs": [],
   "source": [
    "df = quandl.get('WIKI/GOOGL')\n"
   ]
  },
  {
   "cell_type": "code",
   "execution_count": 17,
   "metadata": {
    "collapsed": false
   },
   "outputs": [
    {
     "data": {
      "text/html": [
       "<div>\n",
       "<table border=\"1\" class=\"dataframe\">\n",
       "  <thead>\n",
       "    <tr style=\"text-align: right;\">\n",
       "      <th></th>\n",
       "      <th>Open</th>\n",
       "      <th>High</th>\n",
       "      <th>Low</th>\n",
       "      <th>Close</th>\n",
       "      <th>Volume</th>\n",
       "      <th>Ex-Dividend</th>\n",
       "      <th>Split Ratio</th>\n",
       "      <th>Adj. Open</th>\n",
       "      <th>Adj. High</th>\n",
       "      <th>Adj. Low</th>\n",
       "      <th>Adj. Close</th>\n",
       "      <th>Adj. Volume</th>\n",
       "    </tr>\n",
       "  </thead>\n",
       "  <tbody>\n",
       "    <tr>\n",
       "      <th>count</th>\n",
       "      <td>3204.000000</td>\n",
       "      <td>3204.000000</td>\n",
       "      <td>3204.000000</td>\n",
       "      <td>3204.000000</td>\n",
       "      <td>3.204000e+03</td>\n",
       "      <td>3204.000000</td>\n",
       "      <td>3204.0</td>\n",
       "      <td>3204.000000</td>\n",
       "      <td>3204.000000</td>\n",
       "      <td>3204.000000</td>\n",
       "      <td>3204.000000</td>\n",
       "      <td>3.204000e+03</td>\n",
       "    </tr>\n",
       "    <tr>\n",
       "      <th>mean</th>\n",
       "      <td>567.529129</td>\n",
       "      <td>572.819186</td>\n",
       "      <td>561.697972</td>\n",
       "      <td>567.286733</td>\n",
       "      <td>8.236890e+06</td>\n",
       "      <td>0.177270</td>\n",
       "      <td>1.0</td>\n",
       "      <td>367.281610</td>\n",
       "      <td>370.565000</td>\n",
       "      <td>363.627585</td>\n",
       "      <td>367.131301</td>\n",
       "      <td>8.236890e+06</td>\n",
       "    </tr>\n",
       "    <tr>\n",
       "      <th>std</th>\n",
       "      <td>203.847576</td>\n",
       "      <td>204.420286</td>\n",
       "      <td>202.965199</td>\n",
       "      <td>203.755316</td>\n",
       "      <td>8.362931e+06</td>\n",
       "      <td>10.034146</td>\n",
       "      <td>0.0</td>\n",
       "      <td>208.124584</td>\n",
       "      <td>209.225163</td>\n",
       "      <td>206.758154</td>\n",
       "      <td>208.074904</td>\n",
       "      <td>8.362931e+06</td>\n",
       "    </tr>\n",
       "    <tr>\n",
       "      <th>min</th>\n",
       "      <td>99.090000</td>\n",
       "      <td>101.740000</td>\n",
       "      <td>95.960000</td>\n",
       "      <td>100.010000</td>\n",
       "      <td>5.211410e+05</td>\n",
       "      <td>0.000000</td>\n",
       "      <td>1.0</td>\n",
       "      <td>49.698414</td>\n",
       "      <td>51.027517</td>\n",
       "      <td>48.128568</td>\n",
       "      <td>50.159839</td>\n",
       "      <td>5.211410e+05</td>\n",
       "    </tr>\n",
       "    <tr>\n",
       "      <th>25%</th>\n",
       "      <td>450.082500</td>\n",
       "      <td>454.710000</td>\n",
       "      <td>443.520000</td>\n",
       "      <td>449.055000</td>\n",
       "      <td>2.974284e+06</td>\n",
       "      <td>0.000000</td>\n",
       "      <td>1.0</td>\n",
       "      <td>225.738082</td>\n",
       "      <td>228.058996</td>\n",
       "      <td>222.446672</td>\n",
       "      <td>225.222741</td>\n",
       "      <td>2.974284e+06</td>\n",
       "    </tr>\n",
       "    <tr>\n",
       "      <th>50%</th>\n",
       "      <td>552.090000</td>\n",
       "      <td>557.935000</td>\n",
       "      <td>546.425000</td>\n",
       "      <td>551.955000</td>\n",
       "      <td>5.468500e+06</td>\n",
       "      <td>0.000000</td>\n",
       "      <td>1.0</td>\n",
       "      <td>292.402619</td>\n",
       "      <td>294.802527</td>\n",
       "      <td>289.180171</td>\n",
       "      <td>291.605157</td>\n",
       "      <td>5.468500e+06</td>\n",
       "    </tr>\n",
       "    <tr>\n",
       "      <th>75%</th>\n",
       "      <td>685.252500</td>\n",
       "      <td>692.904925</td>\n",
       "      <td>677.520000</td>\n",
       "      <td>684.430000</td>\n",
       "      <td>1.091615e+07</td>\n",
       "      <td>0.000000</td>\n",
       "      <td>1.0</td>\n",
       "      <td>536.757500</td>\n",
       "      <td>540.992500</td>\n",
       "      <td>531.039910</td>\n",
       "      <td>536.922500</td>\n",
       "      <td>1.091615e+07</td>\n",
       "    </tr>\n",
       "    <tr>\n",
       "      <th>max</th>\n",
       "      <td>1226.800000</td>\n",
       "      <td>1228.880000</td>\n",
       "      <td>1218.600000</td>\n",
       "      <td>1220.170000</td>\n",
       "      <td>8.215110e+07</td>\n",
       "      <td>567.971668</td>\n",
       "      <td>1.0</td>\n",
       "      <td>961.330000</td>\n",
       "      <td>962.200000</td>\n",
       "      <td>954.400000</td>\n",
       "      <td>958.690000</td>\n",
       "      <td>8.215110e+07</td>\n",
       "    </tr>\n",
       "  </tbody>\n",
       "</table>\n",
       "</div>"
      ],
      "text/plain": [
       "              Open         High          Low        Close        Volume  \\\n",
       "count  3204.000000  3204.000000  3204.000000  3204.000000  3.204000e+03   \n",
       "mean    567.529129   572.819186   561.697972   567.286733  8.236890e+06   \n",
       "std     203.847576   204.420286   202.965199   203.755316  8.362931e+06   \n",
       "min      99.090000   101.740000    95.960000   100.010000  5.211410e+05   \n",
       "25%     450.082500   454.710000   443.520000   449.055000  2.974284e+06   \n",
       "50%     552.090000   557.935000   546.425000   551.955000  5.468500e+06   \n",
       "75%     685.252500   692.904925   677.520000   684.430000  1.091615e+07   \n",
       "max    1226.800000  1228.880000  1218.600000  1220.170000  8.215110e+07   \n",
       "\n",
       "       Ex-Dividend  Split Ratio    Adj. Open    Adj. High     Adj. Low  \\\n",
       "count  3204.000000       3204.0  3204.000000  3204.000000  3204.000000   \n",
       "mean      0.177270          1.0   367.281610   370.565000   363.627585   \n",
       "std      10.034146          0.0   208.124584   209.225163   206.758154   \n",
       "min       0.000000          1.0    49.698414    51.027517    48.128568   \n",
       "25%       0.000000          1.0   225.738082   228.058996   222.446672   \n",
       "50%       0.000000          1.0   292.402619   294.802527   289.180171   \n",
       "75%       0.000000          1.0   536.757500   540.992500   531.039910   \n",
       "max     567.971668          1.0   961.330000   962.200000   954.400000   \n",
       "\n",
       "        Adj. Close   Adj. Volume  \n",
       "count  3204.000000  3.204000e+03  \n",
       "mean    367.131301  8.236890e+06  \n",
       "std     208.074904  8.362931e+06  \n",
       "min      50.159839  5.211410e+05  \n",
       "25%     225.222741  2.974284e+06  \n",
       "50%     291.605157  5.468500e+06  \n",
       "75%     536.922500  1.091615e+07  \n",
       "max     958.690000  8.215110e+07  "
      ]
     },
     "execution_count": 17,
     "metadata": {},
     "output_type": "execute_result"
    }
   ],
   "source": [
    "df.describe()"
   ]
  },
  {
   "cell_type": "code",
   "execution_count": 20,
   "metadata": {
    "collapsed": false
   },
   "outputs": [
    {
     "data": {
      "image/png": "[encoded data removed]",
      "text/plain": [
       "<matplotlib.figure.Figure at 0xd49cb00>"
      ]
     },
     "metadata": {},
     "output_type": "display_data"
    },
    {
     "data": {
      "text/plain": [
       "1226.8"
      ]
     },
     "execution_count": 20,
     "metadata": {},
     "output_type": "execute_result"
    }
   ],
   "source": [
    "len(df)\n",
    "df['Open'].plot()\n",
    "plt.show()\n",
    "df['Open'].max()\n"
   ]
  },
  {
   "cell_type": "code",
   "execution_count": 21,
   "metadata": {
    "collapsed": false
   },
   "outputs": [
    {
     "data": {
      "text/plain": [
       "array([0, 1, 2])"
      ]
     },
     "execution_count": 21,
     "metadata": {},
     "output_type": "execute_result"
    }
   ],
   "source": [
    "iris = datasets.load_iris()\n",
    "iris_X = iris.data\n",
    "iris_y = iris.target\n",
    "np.unique(iris_y)\n"
   ]
  },
  {
   "cell_type": "code",
   "execution_count": 23,
   "metadata": {
    "collapsed": false
   },
   "outputs": [
    {
     "data": {
      "text/plain": [
       "array([[ 5.1,  3.5,  1.4,  0.2],\n",
       "       [ 4.9,  3. ,  1.4,  0.2],\n",
       "       [ 4.7,  3.2,  1.3,  0.2],\n",
       "       [ 4.6,  3.1,  1.5,  0.2],\n",
       "       [ 5. ,  3.6,  1.4,  0.2]])"
      ]
     },
     "execution_count": 23,
     "metadata": {},
     "output_type": "execute_result"
    }
   ],
   "source": [
    "iris_X[0:5]"
   ]
  },
  {
   "cell_type": "code",
   "execution_count": 28,
   "metadata": {
    "collapsed": false
   },
   "outputs": [
    {
     "data": {
      "text/plain": [
       "150"
      ]
     },
     "execution_count": 28,
     "metadata": {},
     "output_type": "execute_result"
    }
   ],
   "source": [
    "len(iris_y)"
   ]
  },
  {
   "cell_type": "code",
   "execution_count": 30,
   "metadata": {
    "collapsed": false
   },
   "outputs": [
    {
     "data": {
      "text/plain": [
       "array([114,  62,  33, 107,   7, 100,  40,  86,  76,  71, 134,  51,  73,\n",
       "        54,  63,  37,  78,  90,  45,  16, 121,  66,  24,   8, 126,  22,\n",
       "        44,  97,  93,  26, 137,  84,  27, 127, 132,  59,  18,  83,  61,\n",
       "        92, 112,   2, 141,  43,  10,  60, 116, 144, 119, 108,  69, 135,\n",
       "        56,  80, 123, 133, 106, 146,  50, 147,  85,  30, 101,  94,  64,\n",
       "        89,  91, 125,  48,  13, 111,  95,  20,  15,  52,   3, 149,  98,\n",
       "         6,  68, 109,  96,  12, 102, 120, 104, 128,  46,  11, 110, 124,\n",
       "        41, 148,   1, 113, 139,  42,   4, 129,  17,  38,   5,  53, 143,\n",
       "       105,   0,  34,  28,  55,  75,  35,  23,  74,  31, 118,  57, 131,\n",
       "        65,  32, 138,  14, 122,  19,  29, 130,  49, 136,  99,  82,  79,\n",
       "       115, 145,  72,  77,  25,  81, 140, 142,  39,  58,  88,  70,  87,\n",
       "        36,  21,   9, 103,  67, 117,  47])"
      ]
     },
     "execution_count": 30,
     "metadata": {},
     "output_type": "execute_result"
    }
   ],
   "source": [
    "np.random.seed(0)\n",
    "indices = np.random.permutation(len(iris_X))\n",
    "indices"
   ]
  },
  {
   "cell_type": "code",
   "execution_count": 36,
   "metadata": {
    "collapsed": false
   },
   "outputs": [
    {
     "name": "stdout",
     "output_type": "stream",
     "text": [
      "[0 2 0 0 2 0 2 1 1 1 2 2 2 1 0 1 2 2 0 1 1 2 1 0 0 0 2 1 2 0]\n",
      "[0 2 0 0 2 0 2 1 1 1 2 2 1 1 0 1 2 2 0 1 1 1 1 0 0 0 2 1 2 0]\n"
     ]
    }
   ],
   "source": [
    "iris_X_train = iris_X[indices[:-30]]\n",
    "iris_y_train = iris_y[[indices[:-30]]]\n",
    "iris_X_test = iris_X[indices[-30:]]\n",
    "iris_y_test = iris_y[[indices[-30:]]]\n",
    "\n",
    "from sklearn.neighbors import KNeighborsClassifier\n",
    "knn = KNeighborsClassifier()\n",
    "knn.fit(iris_X_train,iris_y_train)\n",
    "\n",
    "iris_y_predict = knn.predict(iris_X_test)\n",
    "print iris_y_predict \n",
    "print iris_y_test"
   ]
  },
  {
   "cell_type": "code",
   "execution_count": 35,
   "metadata": {
    "collapsed": false
   },
   "outputs": [
    {
     "data": {
      "text/plain": [
       "140"
      ]
     },
     "execution_count": 35,
     "metadata": {},
     "output_type": "execute_result"
    }
   ],
   "source": [
    "len(iris_X[indices[:-10]])"
   ]
  },
  {
   "cell_type": "code",
   "execution_count": null,
   "metadata": {
    "collapsed": true
   },
   "outputs": [],
   "source": []
  }
 ],
 "metadata": {
  "kernelspec": {
   "display_name": "Python 2",
   "language": "python",
   "name": "python2"
  },
  "language_info": {
   "codemirror_mode": {
    "name": "ipython",
    "version": 2
   },
   "file_extension": ".py",
   "mimetype": "text/x-python",
   "name": "python",
   "nbconvert_exporter": "python",
   "pygments_lexer": "ipython2",
   "version": "2.7.13"
  }
 },
 "nbformat": 4,
 "nbformat_minor": 2
}
